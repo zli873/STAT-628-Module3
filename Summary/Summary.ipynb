{
 "cells": [
  {
   "cell_type": "markdown",
   "metadata": {},
   "source": [
    "# <center>Business Analysis of Bars on Yelp</center>\n",
    "<center>STAT 628 Module 3 Group 2</center>"
   ]
  },
  {
   "cell_type": "markdown",
   "metadata": {},
   "source": [
    "### 1. Introduction and Background\n",
    "In this project, our goal is to use the data provided by the Yelp, which includes some reviews, tips, business and user information, to do some statistical analysis. Then we need to use a simple and understandable way to provide these business owners with some suggestions to help them improve their performance."
   ]
  },
  {
   "cell_type": "markdown",
   "metadata": {},
   "source": [
    "### 2. Data Preprocessing\n",
    "#### 2.1 Data Structure\n",
    "Due to the plenty of dataset on Yelp, we decided to use all the bars business under the restaurant category to be our whole dataset. Then we roughly clean the data by category and table. As we can see from table 1, after cleaning the data, there is still enough data for our analysis."
   ]
  },
  {
   "cell_type": "markdown",
   "metadata": {},
   "source": [
    "|   File   |  Original | Cleaned up Bar Business |\n",
    "|:--------:|:---------:|:-----------------------:|\n",
    "| Business |  192,609  |          8,155          |\n",
    "|  Review  | 6,685,900 |         946,522         |\n",
    "|   User   | 1,637,138 |         453,004         |\n",
    "|    Tip   | 1,223,094 |         170,127         |\n",
    "**<center>Table 1 Cleaned Up Dataset</center>**"
   ]
  },
  {
   "cell_type": "markdown",
   "metadata": {},
   "source": [
    "#### 2.2 Text Cleaning\n",
    "For some text data, we need to clean them in order to simplify the following process of constructing model. We do the following steps to clean the reviews and tips.\n",
    "\n",
    "<img src=\"text-cleaning.png\" width=\"950\" heigth=\"350\">\n",
    "\n",
    "**<center>Table 2 Workflow for Text Cleaning</center>**\n",
    "\n",
    "And we can see how one sentance changes from the original to the final as follows."
   ]
  },
  {
   "cell_type": "markdown",
   "metadata": {},
   "source": [
    "#### 2.3 Data Visualization"
   ]
  },
  {
   "cell_type": "markdown",
   "metadata": {},
   "source": [
    "##### 2.3.1 Wordcloud for Reviews\n",
    "\n",
    "After text cleaning, we do some visualization of reviews. We seperately do wordclouds for 1-star reviews and 5-star reviews. As we can see from figure 1, \"never go back\" appears most in 1-star reviews, and \"love this place\" is the most frequency phrase in 5-star reviews. It perfectly shows that the cleaned up reviews can give us some important and correct information.\n",
    "\n",
    "<img src=\"wordcloud.png\" width=\"500\" heigth=\"150\">\n",
    "\n",
    "**<center>Figure 1 Wordcloud for 1-star Reviews and 5-star Reviews</center>**"
   ]
  },
  {
   "cell_type": "markdown",
   "metadata": {},
   "source": [
    "##### 2.3.2 Attributes of Business\n",
    "\n",
    "<img src=\"music.png\" width=\"900\" heigth=\"300\">\n",
    "**<center>Figure 2 Music and Star Rating</center>**\n",
    "\n",
    "<img src=\"price.png\" width=\"900\" heigth=\"300\">\n",
    "**<center>Figure 3 Price and Star Rating</center>**\n",
    "\n",
    "<img src=\"TV.png\" width=\"600\" heigth=\"100\">\n",
    "**<center>Figure 4 TV and Star Rating</center>**"
   ]
  },
  {
   "cell_type": "markdown",
   "metadata": {},
   "source": [
    "### 3. Experiments and Algorithms\n",
    "#### 3.1 Feature Extraction--TF-IDF\n",
    "We use tf-idf to do feature extraction because compared with naïve word frequency, tf-idf emphasizes those words with high frequency but not too high and this will help us excluding some words frequently appear but are not very informative such as ‘she’,’he’ and ect.\n",
    "\n",
    "Table 3 shows the result of tf-idf of all bars reviews, and we rank these words by weighting their importance in the whole ducument. We devide them into 4 groups: service, place, food, feeling. \n",
    "\n",
    "<img src=\"TFIDF.png\" width=\"600\" heigth=\"400\">\n",
    "**<center>Table 3 Frequency Word for TF-IDF</center>**"
   ]
  },
  {
   "cell_type": "markdown",
   "metadata": {},
   "source": [
    "Based on these words, we plot some histograms and we find that some words have significant relationship with the star rating as figure 5 shows. So we can give these business owners some rough suggestions based on this. For instance, for menu part, bar owners could provide more craft beer since most customers are satisfied with that. Also, for place and service they should keep the bar clean and add more tables to shorten the waiting time, and train server to be more polite.\n",
    "\n",
    "<img src=\"tfidf-star-rate.png\" width=\"800\" heigth=\"50\">\n",
    "\n",
    "**<center>Figure 5 Star Rating Distribution for TF-IDF Frequency Words</center>**"
   ]
  },
  {
   "cell_type": "markdown",
   "metadata": {},
   "source": []
  },
  {
   "cell_type": "markdown",
   "metadata": {},
   "source": [
    "#### 3.2 Topic Modelling"
   ]
  },
  {
   "cell_type": "markdown",
   "metadata": {},
   "source": [
    "Topic modelling is an unsupervised text mining approach. And table 4 shows how topic modelling works.\n",
    "\n",
    "<img src=\"topic modeling workflow.png\" width=\"500\" heigth=\"300\">\n",
    "\n",
    "**<center>Table 4 Workflow of Topic Modelling</center>**"
   ]
  },
  {
   "cell_type": "markdown",
   "metadata": {},
   "source": []
  },
  {
   "cell_type": "markdown",
   "metadata": {},
   "source": []
  },
  {
   "cell_type": "markdown",
   "metadata": {},
   "source": [
    "### 4. Model Evaluation"
   ]
  },
  {
   "cell_type": "markdown",
   "metadata": {},
   "source": [
    "### 5. Conclusions"
   ]
  },
  {
   "cell_type": "markdown",
   "metadata": {},
   "source": []
  },
  {
   "cell_type": "markdown",
   "metadata": {},
   "source": [
    "### 6. Strength and Weakness"
   ]
  },
  {
   "cell_type": "markdown",
   "metadata": {},
   "source": [
    "### 7. Contribution\n",
    "|    __Name__ | __Contribution__                                             |\n",
    "| ----------: | :----------------------------------------------------------- |\n",
    "| Naiqing Cai |     |\n",
    "| Jitian Zhao |     |\n",
    "|    Zihao Li |     |\n",
    "| Yaobin Lin  |     |"
   ]
  },
  {
   "cell_type": "markdown",
   "metadata": {},
   "source": [
    "### 8. Reference"
   ]
  }
 ],
 "metadata": {
  "kernelspec": {
   "display_name": "Python 3",
   "language": "python",
   "name": "python3"
  },
  "language_info": {
   "codemirror_mode": {
    "name": "ipython",
    "version": 3
   },
   "file_extension": ".py",
   "mimetype": "text/x-python",
   "name": "python",
   "nbconvert_exporter": "python",
   "pygments_lexer": "ipython3",
   "version": "3.6.5"
  }
 },
 "nbformat": 4,
 "nbformat_minor": 2
}
