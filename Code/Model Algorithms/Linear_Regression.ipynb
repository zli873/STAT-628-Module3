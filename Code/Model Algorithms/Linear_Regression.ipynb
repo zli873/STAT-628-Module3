{
 "cells": [
  {
   "cell_type": "code",
   "execution_count": null,
   "metadata": {},
   "outputs": [],
   "source": [
    "import matplotlib.pyplot as plt\n",
    "import numpy as np\n",
    "import pandas as pd"
   ]
  },
  {
   "cell_type": "code",
   "execution_count": null,
   "metadata": {},
   "outputs": [],
   "source": [
    "attr_rank = pd.read_csv('attr_rank.csv')"
   ]
  },
  {
   "cell_type": "code",
   "execution_count": null,
   "metadata": {},
   "outputs": [],
   "source": [
    "plt.rcdefaults()\n",
    "fig, ax = plt.subplots()\n",
    "\n",
    "# Example data\n",
    "people = attr_rank['attr_name'][0:7]\n",
    "y_pos = np.arange(len(people))\n",
    "performance = attr_rank['t_value'][0:7]\n",
    "\n",
    "\n",
    "ax.tick_params(axis='both', which='major', labelsize=18)\n",
    "ax.barh(y_pos, performance, align='center')\n",
    "ax.set_yticks(y_pos)\n",
    "ax.set_yticklabels(people)\n",
    "ax.invert_yaxis()  # labels read top-to-bottom\n",
    "ax.set_xlabel('t-values')\n",
    "ax.set_title('negative t-values of attributes', fontsize=24)\n",
    "\n",
    "plt.savefig('negative t-values of attributes.png')\n",
    "plt.show()"
   ]
  },
  {
   "cell_type": "code",
   "execution_count": null,
   "metadata": {},
   "outputs": [],
   "source": [
    "attr_rank = pd.read_csv('attr_rank_1.csv')\n",
    "\n",
    "plt.rcdefaults()\n",
    "fig, ax = plt.subplots()\n",
    "\n",
    "# Example data\n",
    "people = attr_rank['attr_name'][-7:]\n",
    "y_pos = np.arange(len(people))\n",
    "performance = attr_rank['t_value'][-7:]\n",
    "\n",
    "ax.tick_params(axis='both', which='major', labelsize=18)\n",
    "ax.barh(y_pos, performance, align='center')\n",
    "ax.set_yticks(y_pos)\n",
    "ax.set_yticklabels(people)\n",
    "ax.invert_yaxis()  # labels read top-to-bottom\n",
    "ax.set_xlabel('t-values')\n",
    "ax.set_title('positive t-values of attributes', fontsize=24)\n",
    "\n",
    "plt.savefig('positive t-values of attributes.png')\n",
    "plt.show()"
   ]
  }
 ],
 "metadata": {
  "kernelspec": {
   "display_name": "Python 3",
   "language": "python",
   "name": "python3"
  },
  "language_info": {
   "codemirror_mode": {
    "name": "ipython",
    "version": 3
   },
   "file_extension": ".py",
   "mimetype": "text/x-python",
   "name": "python",
   "nbconvert_exporter": "python",
   "pygments_lexer": "ipython3",
   "version": "3.7.3"
  }
 },
 "nbformat": 4,
 "nbformat_minor": 2
}
