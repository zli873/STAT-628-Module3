{
 "cells": [
  {
   "cell_type": "code",
   "execution_count": null,
   "metadata": {},
   "outputs": [],
   "source": [
    "import json\n",
    "import pandas as pd\n",
    "import numpy as np\n",
    "from tqdm import tqdm\n",
    "import operator"
   ]
  },
  {
   "cell_type": "code",
   "execution_count": null,
   "metadata": {},
   "outputs": [],
   "source": [
    "def json_get_length(path):\n",
    "    with open(path, encoding=\"utf-8\") as f:\n",
    "        lines = f.readlines()\n",
    "        return len(lines)"
   ]
  },
  {
   "cell_type": "code",
   "execution_count": null,
   "metadata": {},
   "outputs": [],
   "source": [
    "def json_to_df(path, l):\n",
    "    with open(path, encoding=\"utf-8\") as f:\n",
    "        dic = {}\n",
    "        for i in tqdm(range(l)):\n",
    "            line = f.readline()\n",
    "            dic_new = dict(json.loads(line))\n",
    "            if i == 0:\n",
    "                dic = dic_new\n",
    "                for key in dic:\n",
    "                    dic[key] = [dic[key]]\n",
    "            else:\n",
    "                for key in dic:\n",
    "                    dic[key].append(dic_new[key])\n",
    "        f.close()\n",
    "        dic = pd.DataFrame(dic)\n",
    "        return dic"
   ]
  },
  {
   "cell_type": "code",
   "execution_count": null,
   "metadata": {},
   "outputs": [],
   "source": [
    "# Read review file\n",
    "l_review=json_get_length('review.json')\n",
    "review = json_to_df('review.json',l_review)"
   ]
  },
  {
   "cell_type": "code",
   "execution_count": null,
   "metadata": {},
   "outputs": [],
   "source": [
    "# Read tip file\n",
    "l_tip=json_get_length('tip.json')\n",
    "tip = json_to_df('tip.json',l_tip)"
   ]
  },
  {
   "cell_type": "code",
   "execution_count": null,
   "metadata": {},
   "outputs": [],
   "source": [
    "unique_business_id = set(list(review['business_id']))\n",
    "# Find tips only for these business\n",
    "tip = tip[tip['business_id'].isin(unique_business_id)]"
   ]
  },
  {
   "cell_type": "code",
   "execution_count": null,
   "metadata": {},
   "outputs": [],
   "source": [
    "# Read business file\n",
    "l_business=json_get_length('business.json')\n",
    "business = json_to_df('business.json',l_business)"
   ]
  },
  {
   "cell_type": "code",
   "execution_count": null,
   "metadata": {},
   "outputs": [],
   "source": [
    "# Find information only for these business\n",
    "business = business[business['business_id'].isin(unique_business_id)]\n",
    "business.index = range(len(business))"
   ]
  },
  {
   "cell_type": "code",
   "execution_count": null,
   "metadata": {},
   "outputs": [],
   "source": [
    "# Read user file\n",
    "l_user=json_get_length('user.json')\n",
    "user = json_to_df('user.json',l_user)"
   ]
  },
  {
   "cell_type": "code",
   "execution_count": null,
   "metadata": {},
   "outputs": [],
   "source": [
    "unique_user_id = set(list(review['user_id']))\n",
    "# Find users only those who write reviews in review files\n",
    "user = user[user['user_id'].isin(unique_user_id)]"
   ]
  },
  {
   "cell_type": "code",
   "execution_count": null,
   "metadata": {},
   "outputs": [],
   "source": [
    "# Find information only for bars business\n",
    "bars_business_id = []\n",
    "for i in tqdm(range(len(business))):\n",
    "    if business.loc[i, 'categories'] and business.loc[i, 'review_count'] >= 3 and business.loc[i, 'stars'] and business.loc[i, 'is_open'] == 1 and business.loc[i, 'business_id'] != '#NAME?':\n",
    "        curr = business.loc[i, 'categories'].split(', ')\n",
    "        if 'Bars' in curr:\n",
    "            bars_business_id.append(business.loc[i,'business_id'])\n",
    "bars_business = business[business['business_id'].isin(bars_business_id)]\n",
    "bars_business.index = range(len(bars_business))\n",
    "bars_business.to_csv(r'bars_business.csv')\n",
    "bars_review = review[review['business_id'].isin(bars_business_id)]\n",
    "bars_review.index = range(len(bars_review))\n",
    "bars_review.to_csv(r'bars_review.csv')\n",
    "bars_tip = tip[tip['business_id'].isin(bars_business_id)]\n",
    "bars_tip.index = range(len(bars_tip))\n",
    "bars_tip.to_csv(r'bars_tip.csv')"
   ]
  }
 ],
 "metadata": {
  "kernelspec": {
   "display_name": "Python 3",
   "language": "python",
   "name": "python3"
  },
  "language_info": {
   "codemirror_mode": {
    "name": "ipython",
    "version": 3
   },
   "file_extension": ".py",
   "mimetype": "text/x-python",
   "name": "python",
   "nbconvert_exporter": "python",
   "pygments_lexer": "ipython3",
   "version": "3.7.3"
  }
 },
 "nbformat": 4,
 "nbformat_minor": 2
}
