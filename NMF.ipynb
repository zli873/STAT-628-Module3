{
  "nbformat": 4,
  "nbformat_minor": 0,
  "metadata": {
    "kernelspec": {
      "display_name": "Python 3",
      "language": "python",
      "name": "python3"
    },
    "language_info": {
      "codemirror_mode": {
        "name": "ipython",
        "version": 3
      },
      "file_extension": ".py",
      "mimetype": "text/x-python",
      "name": "python",
      "nbconvert_exporter": "python",
      "pygments_lexer": "ipython3",
      "version": "3.6.1"
    },
    "colab": {
      "name": "NMF.ipynb",
      "provenance": [],
      "collapsed_sections": [],
      "toc_visible": true,
      "include_colab_link": true
    }
  },
  "cells": [
    {
      "cell_type": "markdown",
      "metadata": {
        "id": "view-in-github",
        "colab_type": "text"
      },
      "source": [
        "<a href=\"https://colab.research.google.com/github/zli873/STAT-628-Module3/blob/master/NMF.ipynb\" target=\"_parent\"><img src=\"https://colab.research.google.com/assets/colab-badge.svg\" alt=\"Open In Colab\"/></a>"
      ]
    },
    {
      "cell_type": "markdown",
      "metadata": {
        "id": "VS1MncYlFZhH",
        "colab_type": "text"
      },
      "source": [
        "# Text Preprocessing"
      ]
    },
    {
      "cell_type": "code",
      "metadata": {
        "id": "XtZUcbXbFeX5",
        "colab_type": "code",
        "outputId": "3d4bc564-47d6-453e-d58c-4949f9849577",
        "colab": {
          "base_uri": "https://localhost:8080/",
          "height": 54
        }
      },
      "source": [
        "from google.colab import drive\n",
        "drive.mount('/content/drive')"
      ],
      "execution_count": 0,
      "outputs": [
        {
          "output_type": "stream",
          "text": [
            "Drive already mounted at /content/drive; to attempt to forcibly remount, call drive.mount(\"/content/drive\", force_remount=True).\n"
          ],
          "name": "stdout"
        }
      ]
    },
    {
      "cell_type": "markdown",
      "metadata": {
        "id": "Ltsh5vDiFZhK",
        "colab_type": "text"
      },
      "source": [
        "In this notebook we will look at the steps involved in preprocessing a corpus of unstructed text documents using *scikit-learn*, which we will use later for topic modelling."
      ]
    },
    {
      "cell_type": "markdown",
      "metadata": {
        "id": "l9xCMay8FZhL",
        "colab_type": "text"
      },
      "source": [
        "### Loading the Documents"
      ]
    },
    {
      "cell_type": "markdown",
      "metadata": {
        "id": "E2YpWfiXFZhM",
        "colab_type": "text"
      },
      "source": [
        "As our sample corpus of text, we will use a corpus of news articles collected in 2016. These articles have been stored in a single file and formatted so that one article appears on each line. We will load these articles into a list, and also create a short snippet of text for each document."
      ]
    },
    {
      "cell_type": "code",
      "metadata": {
        "id": "rHfZDjAVFZhN",
        "colab_type": "code",
        "colab": {}
      },
      "source": [
        "import pandas as pd\n",
        "df = pd.read_csv('/content/drive/My Drive/628 module3/bars/bars_review.csv',nrows=50000)\n"
      ],
      "execution_count": 0,
      "outputs": []
    },
    {
      "cell_type": "markdown",
      "metadata": {
        "id": "2RdXRI5PFZhS",
        "colab_type": "text"
      },
      "source": [
        "### Creating a Document-Term Matrix"
      ]
    },
    {
      "cell_type": "markdown",
      "metadata": {
        "id": "Vcmq-FbaFZhT",
        "colab_type": "text"
      },
      "source": [
        "When preprocessing text, a common approach is to remove non-informative stopwords. The choice of stopwords can have a considerable impact later on. We will use a custom stopword list:"
      ]
    },
    {
      "cell_type": "markdown",
      "metadata": {
        "id": "fjbn2c0xFZhW",
        "colab_type": "text"
      },
      "source": [
        "In the *bag-of-words model*, each document is represented by a vector in a *m*-dimensional coordinate space, where *m* is number of unique terms across all documents. This set of terms is called the corpus *vocabulary*. \n",
        "\n",
        "Since each document can be represented as a term vector, we can stack these vectors to create a full *document-term matrix*. We can easily create this matrix from a list of document strings using *CountVectorizer* from Scikit-learn. The parameters passed to *CountVectorizer* control the pre-processing steps that it performs."
      ]
    },
    {
      "cell_type": "code",
      "metadata": {
        "id": "mkL1hizfFZhW",
        "colab_type": "code",
        "outputId": "d4a85bc1-6899-48ab-9f17-17783bbdb653",
        "colab": {
          "base_uri": "https://localhost:8080/",
          "height": 34
        }
      },
      "source": [
        "from sklearn.feature_extraction.text import CountVectorizer\n",
        "# use a custom stopwords list, set the minimum term-document frequency to 20\n",
        "vectorizer = CountVectorizer(stop_words = 'english', min_df = 20)\n",
        "A = vectorizer.fit_transform(raw_documents)\n",
        "print( \"Created %d X %d document-term matrix\" % (A.shape[0], A.shape[1]) )"
      ],
      "execution_count": 0,
      "outputs": [
        {
          "output_type": "stream",
          "text": [
            "Created 10000 X 2702 document-term matrix\n"
          ],
          "name": "stdout"
        }
      ]
    },
    {
      "cell_type": "markdown",
      "metadata": {
        "id": "lFN0ETXyFZhY",
        "colab_type": "text"
      },
      "source": [
        "This process also builds a vocabulary for the corpus:"
      ]
    },
    {
      "cell_type": "code",
      "metadata": {
        "id": "XB4vfvPsFZhZ",
        "colab_type": "code",
        "outputId": "e60a6db8-c717-41cd-8477-562c5bc5fe04",
        "colab": {
          "base_uri": "https://localhost:8080/",
          "height": 34
        }
      },
      "source": [
        "terms = vectorizer.get_feature_names()\n",
        "print(\"Vocabulary has %d distinct terms\" % len(terms))"
      ],
      "execution_count": 0,
      "outputs": [
        {
          "output_type": "stream",
          "text": [
            "Vocabulary has 2702 distinct terms\n"
          ],
          "name": "stdout"
        }
      ]
    },
    {
      "cell_type": "markdown",
      "metadata": {
        "id": "ysIddu-HFZhb",
        "colab_type": "text"
      },
      "source": [
        "We can save this document-term matrix, terms, and snippets for later use using *Joblib* to persist the data."
      ]
    },
    {
      "cell_type": "code",
      "metadata": {
        "id": "71hW3wwLFZhb",
        "colab_type": "code",
        "outputId": "d959360d-c738-46c1-be8c-302466fd8a6a",
        "colab": {
          "base_uri": "https://localhost:8080/",
          "height": 34
        }
      },
      "source": [
        "from sklearn.externals import joblib\n",
        "joblib.dump((A,terms,raw_documents), \"articles-raw.pkl\") "
      ],
      "execution_count": 0,
      "outputs": [
        {
          "output_type": "execute_result",
          "data": {
            "text/plain": [
              "['articles-raw.pkl']"
            ]
          },
          "metadata": {
            "tags": []
          },
          "execution_count": 88
        }
      ]
    },
    {
      "cell_type": "markdown",
      "metadata": {
        "id": "jRus5SApFZhd",
        "colab_type": "text"
      },
      "source": [
        "### Applying Term Weighting with TF-IDF"
      ]
    },
    {
      "cell_type": "markdown",
      "metadata": {
        "id": "ITSnkKL3FZhe",
        "colab_type": "text"
      },
      "source": [
        "We can improve the usefulness of the document-term matrix by giving more weight to the more \"important\" terms. The most common normalisation is *term frequency–inverse document frequency* (TF-IDF). In Scikit-learn, we can generate at TF-IDF weighted document-term matrix by using *TfidfVectorizer* in place of *CountVectorizer*."
      ]
    },
    {
      "cell_type": "code",
      "metadata": {
        "id": "ueSQ_WY0FZhe",
        "colab_type": "code",
        "outputId": "bed938ce-b8aa-401f-8221-bb104afa41de",
        "colab": {
          "base_uri": "https://localhost:8080/",
          "height": 34
        }
      },
      "source": [
        "from sklearn.feature_extraction.text import TfidfVectorizer\n",
        "# we can pass in the same preprocessing parameters\n",
        "# Load the regular expression library\n",
        "import re\n",
        "raw_documents = df.text\n",
        "# Remove punctuation\n",
        "raw_documents = raw_documents.map(lambda x: re.sub('[,\\.!?]', '', x))\n",
        "# Convert the titles to lowercase\n",
        "raw_documents = raw_documents.map(lambda x: x.lower())\n",
        "# Print out the first rows of papers\n",
        "raw_documents.head()\n",
        "\n",
        "vectorizer = TfidfVectorizer(stop_words='english', min_df = 20)\n",
        "A = vectorizer.fit_transform(raw_documents)\n",
        "print( \"Created %d X %d TF-IDF-normalized document-term matrix\" % (A.shape[0], A.shape[1]) )"
      ],
      "execution_count": 0,
      "outputs": [
        {
          "output_type": "stream",
          "text": [
            "Created 50000 X 6948 TF-IDF-normalized document-term matrix\n"
          ],
          "name": "stdout"
        }
      ]
    },
    {
      "cell_type": "code",
      "metadata": {
        "id": "YbXROGq0FZhg",
        "colab_type": "code",
        "outputId": "f9e2d71f-dfee-4194-d1fa-9c3475254fc2",
        "colab": {
          "base_uri": "https://localhost:8080/",
          "height": 34
        }
      },
      "source": [
        "# extract the resulting vocabulary\n",
        "terms = vectorizer.get_feature_names()\n",
        "print(\"Vocabulary has %d distinct terms\" % len(terms))"
      ],
      "execution_count": 0,
      "outputs": [
        {
          "output_type": "stream",
          "text": [
            "Vocabulary has 6948 distinct terms\n"
          ],
          "name": "stdout"
        }
      ]
    },
    {
      "cell_type": "markdown",
      "metadata": {
        "id": "2bnmCMhdFZhj",
        "colab_type": "text"
      },
      "source": [
        "A simple characterisation that we might do would be to look at the terms with the highest TF-IDF scores across all documents in the document-term matrix. We can define such a function as follows:"
      ]
    },
    {
      "cell_type": "code",
      "metadata": {
        "id": "z5Q6uViRFZhj",
        "colab_type": "code",
        "colab": {}
      },
      "source": [
        "import operator\n",
        "def rank_terms( A, terms ):\n",
        "    # get the sums over each column\n",
        "    sums = A.sum(axis=0)\n",
        "    # map weights to the terms\n",
        "    weights = {}\n",
        "    for col, term in enumerate(terms):\n",
        "        weights[term] = sums[0,col]\n",
        "    # rank the terms by their weight over all documents\n",
        "    return sorted(weights.items(), key=operator.itemgetter(1), reverse=True)"
      ],
      "execution_count": 0,
      "outputs": []
    },
    {
      "cell_type": "markdown",
      "metadata": {
        "id": "jgzOMmANFZhl",
        "colab_type": "text"
      },
      "source": [
        "We can now display a ranking of the top 20 terms, which gives us a very rough sense of the content of the document collection:"
      ]
    },
    {
      "cell_type": "code",
      "metadata": {
        "id": "50F9KJUwFZhm",
        "colab_type": "code",
        "outputId": "84654510-c6e3-48db-8541-f741696144ee",
        "colab": {
          "base_uri": "https://localhost:8080/",
          "height": 357
        }
      },
      "source": [
        "ranking = rank_terms( A, terms )\n",
        "for i, pair in enumerate( ranking[0:20] ):\n",
        "    print( \"%02d. %s (%.2f)\" % ( i+1, pair[0], pair[1] ) )"
      ],
      "execution_count": 0,
      "outputs": [
        {
          "output_type": "stream",
          "text": [
            "01. food (2048.95)\n",
            "02. great (1987.30)\n",
            "03. good (1830.13)\n",
            "04. place (1696.34)\n",
            "05. service (1499.96)\n",
            "06. time (1084.25)\n",
            "07. bar (1020.74)\n",
            "08. like (1009.32)\n",
            "09. just (1001.47)\n",
            "10. really (947.67)\n",
            "11. nice (858.81)\n",
            "12. best (811.02)\n",
            "13. amazing (806.42)\n",
            "14. drinks (797.61)\n",
            "15. restaurant (789.42)\n",
            "16. love (783.57)\n",
            "17. ordered (762.02)\n",
            "18. menu (759.60)\n",
            "19. staff (745.17)\n",
            "20. delicious (731.61)\n"
          ],
          "name": "stdout"
        }
      ]
    },
    {
      "cell_type": "markdown",
      "metadata": {
        "id": "8kDOQlbpFZhp",
        "colab_type": "text"
      },
      "source": [
        "Again we will save this document-term matrix, terms, and snippets for topic modelling later using *Joblib*."
      ]
    },
    {
      "cell_type": "code",
      "metadata": {
        "id": "VYOwWm6jFZhq",
        "colab_type": "code",
        "outputId": "860fcd78-4c6f-46a2-fbd9-a81262ea58cf",
        "colab": {
          "base_uri": "https://localhost:8080/",
          "height": 34
        }
      },
      "source": [
        "joblib.dump((A,terms,raw_documents), \"articles-tfidf.pkl\") "
      ],
      "execution_count": 0,
      "outputs": [
        {
          "output_type": "execute_result",
          "data": {
            "text/plain": [
              "['articles-tfidf.pkl']"
            ]
          },
          "metadata": {
            "tags": []
          },
          "execution_count": 93
        }
      ]
    },
    {
      "cell_type": "code",
      "metadata": {
        "id": "-WkxPZjHHgvn",
        "colab_type": "code",
        "outputId": "7247024d-0ad3-44d5-a103-c13d6f5ae696",
        "colab": {
          "base_uri": "https://localhost:8080/",
          "height": 34
        }
      },
      "source": [
        "from sklearn.externals import joblib\n",
        "(A,terms,snippets) = joblib.load( \"articles-tfidf.pkl\" )\n",
        "print( \"Loaded %d X %d document-term matrix\" % (A.shape[0], A.shape[1]) )"
      ],
      "execution_count": 0,
      "outputs": [
        {
          "output_type": "stream",
          "text": [
            "Loaded 50000 X 6948 document-term matrix\n"
          ],
          "name": "stdout"
        }
      ]
    },
    {
      "cell_type": "code",
      "metadata": {
        "id": "NnBKVctLHrBr",
        "colab_type": "code",
        "colab": {}
      },
      "source": [
        "k = 10"
      ],
      "execution_count": 0,
      "outputs": []
    },
    {
      "cell_type": "code",
      "metadata": {
        "id": "gLCTZcgDHvl4",
        "colab_type": "code",
        "colab": {}
      },
      "source": [
        "# create the model\n",
        "from sklearn import decomposition\n",
        "model = decomposition.NMF( init=\"nndsvd\", n_components=k ) \n",
        "# apply the model and extract the two factor matrices\n",
        "W = model.fit_transform( A )\n",
        "H = model.components_"
      ],
      "execution_count": 0,
      "outputs": []
    },
    {
      "cell_type": "code",
      "metadata": {
        "id": "V-KMasF1Hx3I",
        "colab_type": "code",
        "outputId": "7a8a1a19-4706-4793-9426-2a1aed61ec3f",
        "colab": {
          "base_uri": "https://localhost:8080/",
          "height": 34
        }
      },
      "source": [
        "W.shape"
      ],
      "execution_count": 0,
      "outputs": [
        {
          "output_type": "execute_result",
          "data": {
            "text/plain": [
              "(50000, 10)"
            ]
          },
          "metadata": {
            "tags": []
          },
          "execution_count": 97
        }
      ]
    },
    {
      "cell_type": "code",
      "metadata": {
        "id": "S-vLxdTFH0XQ",
        "colab_type": "code",
        "outputId": "b29cee38-1750-4b93-fe30-25730ad8d163",
        "colab": {
          "base_uri": "https://localhost:8080/",
          "height": 34
        }
      },
      "source": [
        "W[0,:].round(2)"
      ],
      "execution_count": 0,
      "outputs": [
        {
          "output_type": "execute_result",
          "data": {
            "text/plain": [
              "array([0.  , 0.02, 0.  , 0.02, 0.  , 0.  , 0.  , 0.03, 0.01, 0.05])"
            ]
          },
          "metadata": {
            "tags": []
          },
          "execution_count": 98
        }
      ]
    },
    {
      "cell_type": "code",
      "metadata": {
        "id": "Qes-qOMcH3iv",
        "colab_type": "code",
        "outputId": "0640bbca-abd1-4a69-b263-fba135944c83",
        "colab": {
          "base_uri": "https://localhost:8080/",
          "height": 34
        }
      },
      "source": [
        "term_index = terms.index('beer')\n",
        "# round to 2 decimal places for display purposes\n",
        "H[:,term_index].round(2)"
      ],
      "execution_count": 0,
      "outputs": [
        {
          "output_type": "execute_result",
          "data": {
            "text/plain": [
              "array([0.  , 0.  , 1.59, 0.  , 0.  , 0.07, 0.  , 0.  , 0.  , 0.  ])"
            ]
          },
          "metadata": {
            "tags": []
          },
          "execution_count": 99
        }
      ]
    },
    {
      "cell_type": "code",
      "metadata": {
        "id": "0eF3sEsHH7r1",
        "colab_type": "code",
        "colab": {}
      },
      "source": [
        "import numpy as np\n",
        "def get_descriptor( terms, H, topic_index, top ):\n",
        "    # reverse sort the values to sort the indices\n",
        "    top_indices = np.argsort( H[topic_index,:] )[::-1]\n",
        "    # now get the terms corresponding to the top-ranked indices\n",
        "    top_terms = []\n",
        "    for term_index in top_indices[0:top]:\n",
        "        top_terms.append( terms[term_index] )\n",
        "    return top_terms"
      ],
      "execution_count": 0,
      "outputs": []
    },
    {
      "cell_type": "code",
      "metadata": {
        "id": "WdbdkhigH-9G",
        "colab_type": "code",
        "outputId": "f61e344a-f711-4617-8526-ca3017426b5a",
        "colab": {
          "base_uri": "https://localhost:8080/",
          "height": 207
        }
      },
      "source": [
        "descriptors = []\n",
        "for topic_index in range(k):\n",
        "    descriptors.append( get_descriptor( terms, H, topic_index, 10 ) )\n",
        "    str_descriptor = \", \".join( descriptors[topic_index] )\n",
        "    print(\"Topic %02d: %s\" % ( topic_index+1, str_descriptor ) )"
      ],
      "execution_count": 0,
      "outputs": [
        {
          "output_type": "stream",
          "text": [
            "Topic 01: minutes, time, table, came, order, server, took, asked, just, got\n",
            "Topic 02: great, atmosphere, awesome, staff, time, friendly, drinks, spot, wine, patio\n",
            "Topic 03: bar, beer, selection, beers, nice, area, friendly, bartender, drink, like\n",
            "Topic 04: good, really, pretty, nice, atmosphere, time, food, overall, prices, drinks\n",
            "Topic 05: food, service, excellent, slow, restaurant, better, quality, customer, mexican, price\n",
            "Topic 06: burger, fries, cheese, mac, burgers, wings, bacon, guy, sandwich, ordered\n",
            "Topic 07: place, love, fun, like, drinks, friends, just, awesome, cool, people\n",
            "Topic 08: happy, hour, tacos, specials, menu, prices, drinks, margaritas, dog, margarita\n",
            "Topic 09: amazing, best, vegas, staff, ve, friendly, definitely, recommend, time, highly\n",
            "Topic 10: chicken, salad, ordered, menu, steak, sauce, delicious, like, restaurant, cheese\n"
          ],
          "name": "stdout"
        }
      ]
    },
    {
      "cell_type": "code",
      "metadata": {
        "id": "A-HpMMRcIBTp",
        "colab_type": "code",
        "colab": {}
      },
      "source": [
        "%matplotlib inline\n",
        "import numpy as np\n",
        "import matplotlib\n",
        "import matplotlib.pyplot as plt\n",
        "plt.style.use(\"ggplot\")\n",
        "matplotlib.rcParams.update({\"font.size\": 14})"
      ],
      "execution_count": 0,
      "outputs": []
    },
    {
      "cell_type": "code",
      "metadata": {
        "id": "NT3CI-cMIYw1",
        "colab_type": "code",
        "colab": {}
      },
      "source": [
        "def plot_top_term_weights( terms, H, topic_index, top ):\n",
        "    # get the top terms and their weights\n",
        "    top_indices = np.argsort( H[topic_index,:] )[::-1]\n",
        "    top_terms = []\n",
        "    top_weights = []\n",
        "    for term_index in top_indices[0:top]:\n",
        "        top_terms.append( terms[term_index] )\n",
        "        top_weights.append( H[topic_index,term_index] )\n",
        "    # note we reverse the ordering for the plot\n",
        "    top_terms.reverse()\n",
        "    top_weights.reverse()\n",
        "    # create the plot\n",
        "    fig = plt.figure(figsize=(13,8))\n",
        "    # add the horizontal bar chart\n",
        "    ypos = np.arange(top)\n",
        "    ax = plt.barh(ypos, top_weights, align=\"center\", color=\"green\",tick_label=top_terms)\n",
        "    plt.xlabel(\"Term Weight\",fontsize=14)\n",
        "    plt.tight_layout()\n",
        "    plt.show()"
      ],
      "execution_count": 0,
      "outputs": []
    },
    {
      "cell_type": "code",
      "metadata": {
        "id": "OG-htkztIayc",
        "colab_type": "code",
        "outputId": "bd6eb56f-a936-4e6b-bdef-75416bb531be",
        "colab": {
          "base_uri": "https://localhost:8080/",
          "height": 597
        }
      },
      "source": [
        "plot_top_term_weights( terms, H, 1, 15 )"
      ],
      "execution_count": 0,
      "outputs": [
        {
          "output_type": "display_data",
          "data": {
            "image/png": "[encoded data removed]",
            "text/plain": [
              "<Figure size 936x576 with 1 Axes>"
            ]
          },
          "metadata": {
            "tags": []
          }
        }
      ]
    },
    {
      "cell_type": "code",
      "metadata": {
        "id": "fiY0eJ0NIdNW",
        "colab_type": "code",
        "outputId": "eb3338d7-f7ce-4541-b154-1e92e5bb96cf",
        "colab": {
          "base_uri": "https://localhost:8080/",
          "height": 1000
        }
      },
      "source": [
        "def get_top_snippets( all_snippets, W, topic_index, top ):\n",
        "    # reverse sort the values to sort the indices\n",
        "    top_indices = np.argsort( W[:,topic_index] )[::-1]\n",
        "    # now get the snippets corresponding to the top-ranked indices\n",
        "    top_snippets = []\n",
        "    for doc_index in top_indices[0:top]:\n",
        "        top_snippets.append( all_snippets[doc_index] )\n",
        "    return top_snippets\n",
        "topic_snippets = get_top_snippets( raw_documents, W, 0, 10 )\n",
        "for i, snippet in enumerate(topic_snippets):\n",
        "    print(\"%02d. %s\" % ( (i+1), raw_documents ) )"
      ],
      "execution_count": 0,
      "outputs": [
        {
          "output_type": "stream",
          "text": [
            "01. 0        went in for a lunch steak sandwich was delicio...\n",
            "1        walked in around 4 on a friday afternoon we sa...\n",
            "2        went here last weekend and was pretty disappoi...\n",
            "3        this place epitomizes the rumored transformati...\n",
            "4        i've never experienced discrimination as i did...\n",
            "5        we had dinner here and the food was excellent ...\n",
            "6        this random hole in the wall is located in the...\n",
            "7        th service here is very hit or miss sometimes ...\n",
            "8        heard about this place and was dying to check ...\n",
            "9        received a  mailer and thought okay let's go w...\n",
            "10       first off food is delicious by far my favorite...\n",
            "11       wonderful experience we sat outside on the pat...\n",
            "12       beer beer and more beer  it's definitely a low...\n",
            "13       love the crust on this pizza the sauce is dece...\n",
            "14       i'm not that familiar with scottsdale so i'm j...\n",
            "15       \"good morning cocktails for you\" \\nwaitwhat oh...\n",
            "16       hands down best bloody mary ever so many thing...\n",
            "17       quiet bar and grill great waitress and the mar...\n",
            "18       cutest little dive bar in the city chill vibe ...\n",
            "19       i've been coming to loco on mill since they op...\n",
            "20       not sure why some posted negative reviews of t...\n",
            "21       after being a huge fan of the mission i decide...\n",
            "22       five stars i highly recommend this place if yo...\n",
            "23       i'm not that pleased with this experience for ...\n",
            "24       i've been here 2x wasn't impressed the first t...\n",
            "25       i normally stop here for breakfast when travel...\n",
            "26       the 5 for 6 'til 7 is so awesome and such a gr...\n",
            "27       wild every night my favorite place hands-down ...\n",
            "28       the reason that i'm giving scallywags 3 stars ...\n",
            "29       i don't normally say things are the best but t...\n",
            "                               ...                        \n",
            "49970    it's another pub- very authentic atmosphere- w...\n",
            "49971    why should you go to the caledonian i'll give ...\n",
            "49972    we've eaten at restuarant gary dankos (sf) per...\n",
            "49973    great experience and a surprisingly good value...\n",
            "49974    petite visite pour déjeuner avec la famille mê...\n",
            "49975    ordered takeout: combo fajitas (steak and chic...\n",
            "49976    service: 3/10\\nthe service was extremely slow ...\n",
            "49977    everything about the bar and lounge was 5 star...\n",
            "49978    i live in henderson and absolutely love almost...\n",
            "49979    they serve huge portions here very busy restau...\n",
            "49980    food and atmosphere were great but the tables ...\n",
            "49981    this has not been my favorite restaurant and a...\n",
            "49982    went around 2:00 pm not very busy seated right...\n",
            "49983    damn you yelp for your no half stars~~ i guess...\n",
            "49984    was meeting a friend and he suggested vintners...\n",
            "49985    i've been to cabin club three times now--all f...\n",
            "49986    local go to place good bar food and always fri...\n",
            "49987    moosehead is literally where my ego and my id ...\n",
            "49988    we wanted to bring our family from out of town...\n",
            "49989    tyber creek pub deserves 2 stars only because ...\n",
            "49990    food is pretty good but the breakfast burrito ...\n",
            "49991    heard about this place from a friend so decide...\n",
            "49992    it is extremely rare (i think it may have only...\n",
            "49993    sat at the bar on a busy night and couldn't ha...\n",
            "49994    great bar for before or after dinner although ...\n",
            "49995    i've been going here since i was in elementary...\n",
            "49996    the only reason this place exist is because th...\n",
            "49997    wouldn't be bad if it didn't take so long in t...\n",
            "49998    we recently tried this place while visiting ca...\n",
            "49999    i had very high expectations of cafe monarch a...\n",
            "Name: text, Length: 50000, dtype: object\n",
            "02. 0        went in for a lunch steak sandwich was delicio...\n",
            "1        walked in around 4 on a friday afternoon we sa...\n",
            "2        went here last weekend and was pretty disappoi...\n",
            "3        this place epitomizes the rumored transformati...\n",
            "4        i've never experienced discrimination as i did...\n",
            "5        we had dinner here and the food was excellent ...\n",
            "6        this random hole in the wall is located in the...\n",
            "7        th service here is very hit or miss sometimes ...\n",
            "8        heard about this place and was dying to check ...\n",
            "9        received a  mailer and thought okay let's go w...\n",
            "10       first off food is delicious by far my favorite...\n",
            "11       wonderful experience we sat outside on the pat...\n",
            "12       beer beer and more beer  it's definitely a low...\n",
            "13       love the crust on this pizza the sauce is dece...\n",
            "14       i'm not that familiar with scottsdale so i'm j...\n",
            "15       \"good morning cocktails for you\" \\nwaitwhat oh...\n",
            "16       hands down best bloody mary ever so many thing...\n",
            "17       quiet bar and grill great waitress and the mar...\n",
            "18       cutest little dive bar in the city chill vibe ...\n",
            "19       i've been coming to loco on mill since they op...\n",
            "20       not sure why some posted negative reviews of t...\n",
            "21       after being a huge fan of the mission i decide...\n",
            "22       five stars i highly recommend this place if yo...\n",
            "23       i'm not that pleased with this experience for ...\n",
            "24       i've been here 2x wasn't impressed the first t...\n",
            "25       i normally stop here for breakfast when travel...\n",
            "26       the 5 for 6 'til 7 is so awesome and such a gr...\n",
            "27       wild every night my favorite place hands-down ...\n",
            "28       the reason that i'm giving scallywags 3 stars ...\n",
            "29       i don't normally say things are the best but t...\n",
            "                               ...                        \n",
            "49970    it's another pub- very authentic atmosphere- w...\n",
            "49971    why should you go to the caledonian i'll give ...\n",
            "49972    we've eaten at restuarant gary dankos (sf) per...\n",
            "49973    great experience and a surprisingly good value...\n",
            "49974    petite visite pour déjeuner avec la famille mê...\n",
            "49975    ordered takeout: combo fajitas (steak and chic...\n",
            "49976    service: 3/10\\nthe service was extremely slow ...\n",
            "49977    everything about the bar and lounge was 5 star...\n",
            "49978    i live in henderson and absolutely love almost...\n",
            "49979    they serve huge portions here very busy restau...\n",
            "49980    food and atmosphere were great but the tables ...\n",
            "49981    this has not been my favorite restaurant and a...\n",
            "49982    went around 2:00 pm not very busy seated right...\n",
            "49983    damn you yelp for your no half stars~~ i guess...\n",
            "49984    was meeting a friend and he suggested vintners...\n",
            "49985    i've been to cabin club three times now--all f...\n",
            "49986    local go to place good bar food and always fri...\n",
            "49987    moosehead is literally where my ego and my id ...\n",
            "49988    we wanted to bring our family from out of town...\n",
            "49989    tyber creek pub deserves 2 stars only because ...\n",
            "49990    food is pretty good but the breakfast burrito ...\n",
            "49991    heard about this place from a friend so decide...\n",
            "49992    it is extremely rare (i think it may have only...\n",
            "49993    sat at the bar on a busy night and couldn't ha...\n",
            "49994    great bar for before or after dinner although ...\n",
            "49995    i've been going here since i was in elementary...\n",
            "49996    the only reason this place exist is because th...\n",
            "49997    wouldn't be bad if it didn't take so long in t...\n",
            "49998    we recently tried this place while visiting ca...\n",
            "49999    i had very high expectations of cafe monarch a...\n",
            "Name: text, Length: 50000, dtype: object\n",
            "03. 0        went in for a lunch steak sandwich was delicio...\n",
            "1        walked in around 4 on a friday afternoon we sa...\n",
            "2        went here last weekend and was pretty disappoi...\n",
            "3        this place epitomizes the rumored transformati...\n",
            "4        i've never experienced discrimination as i did...\n",
            "5        we had dinner here and the food was excellent ...\n",
            "6        this random hole in the wall is located in the...\n",
            "7        th service here is very hit or miss sometimes ...\n",
            "8        heard about this place and was dying to check ...\n",
            "9        received a  mailer and thought okay let's go w...\n",
            "10       first off food is delicious by far my favorite...\n",
            "11       wonderful experience we sat outside on the pat...\n",
            "12       beer beer and more beer  it's definitely a low...\n",
            "13       love the crust on this pizza the sauce is dece...\n",
            "14       i'm not that familiar with scottsdale so i'm j...\n",
            "15       \"good morning cocktails for you\" \\nwaitwhat oh...\n",
            "16       hands down best bloody mary ever so many thing...\n",
            "17       quiet bar and grill great waitress and the mar...\n",
            "18       cutest little dive bar in the city chill vibe ...\n",
            "19       i've been coming to loco on mill since they op...\n",
            "20       not sure why some posted negative reviews of t...\n",
            "21       after being a huge fan of the mission i decide...\n",
            "22       five stars i highly recommend this place if yo...\n",
            "23       i'm not that pleased with this experience for ...\n",
            "24       i've been here 2x wasn't impressed the first t...\n",
            "25       i normally stop here for breakfast when travel...\n",
            "26       the 5 for 6 'til 7 is so awesome and such a gr...\n",
            "27       wild every night my favorite place hands-down ...\n",
            "28       the reason that i'm giving scallywags 3 stars ...\n",
            "29       i don't normally say things are the best but t...\n",
            "                               ...                        \n",
            "49970    it's another pub- very authentic atmosphere- w...\n",
            "49971    why should you go to the caledonian i'll give ...\n",
            "49972    we've eaten at restuarant gary dankos (sf) per...\n",
            "49973    great experience and a surprisingly good value...\n",
            "49974    petite visite pour déjeuner avec la famille mê...\n",
            "49975    ordered takeout: combo fajitas (steak and chic...\n",
            "49976    service: 3/10\\nthe service was extremely slow ...\n",
            "49977    everything about the bar and lounge was 5 star...\n",
            "49978    i live in henderson and absolutely love almost...\n",
            "49979    they serve huge portions here very busy restau...\n",
            "49980    food and atmosphere were great but the tables ...\n",
            "49981    this has not been my favorite restaurant and a...\n",
            "49982    went around 2:00 pm not very busy seated right...\n",
            "49983    damn you yelp for your no half stars~~ i guess...\n",
            "49984    was meeting a friend and he suggested vintners...\n",
            "49985    i've been to cabin club three times now--all f...\n",
            "49986    local go to place good bar food and always fri...\n",
            "49987    moosehead is literally where my ego and my id ...\n",
            "49988    we wanted to bring our family from out of town...\n",
            "49989    tyber creek pub deserves 2 stars only because ...\n",
            "49990    food is pretty good but the breakfast burrito ...\n",
            "49991    heard about this place from a friend so decide...\n",
            "49992    it is extremely rare (i think it may have only...\n",
            "49993    sat at the bar on a busy night and couldn't ha...\n",
            "49994    great bar for before or after dinner although ...\n",
            "49995    i've been going here since i was in elementary...\n",
            "49996    the only reason this place exist is because th...\n",
            "49997    wouldn't be bad if it didn't take so long in t...\n",
            "49998    we recently tried this place while visiting ca...\n",
            "49999    i had very high expectations of cafe monarch a...\n",
            "Name: text, Length: 50000, dtype: object\n",
            "04. 0        went in for a lunch steak sandwich was delicio...\n",
            "1        walked in around 4 on a friday afternoon we sa...\n",
            "2        went here last weekend and was pretty disappoi...\n",
            "3        this place epitomizes the rumored transformati...\n",
            "4        i've never experienced discrimination as i did...\n",
            "5        we had dinner here and the food was excellent ...\n",
            "6        this random hole in the wall is located in the...\n",
            "7        th service here is very hit or miss sometimes ...\n",
            "8        heard about this place and was dying to check ...\n",
            "9        received a  mailer and thought okay let's go w...\n",
            "10       first off food is delicious by far my favorite...\n",
            "11       wonderful experience we sat outside on the pat...\n",
            "12       beer beer and more beer  it's definitely a low...\n",
            "13       love the crust on this pizza the sauce is dece...\n",
            "14       i'm not that familiar with scottsdale so i'm j...\n",
            "15       \"good morning cocktails for you\" \\nwaitwhat oh...\n",
            "16       hands down best bloody mary ever so many thing...\n",
            "17       quiet bar and grill great waitress and the mar...\n",
            "18       cutest little dive bar in the city chill vibe ...\n",
            "19       i've been coming to loco on mill since they op...\n",
            "20       not sure why some posted negative reviews of t...\n",
            "21       after being a huge fan of the mission i decide...\n",
            "22       five stars i highly recommend this place if yo...\n",
            "23       i'm not that pleased with this experience for ...\n",
            "24       i've been here 2x wasn't impressed the first t...\n",
            "25       i normally stop here for breakfast when travel...\n",
            "26       the 5 for 6 'til 7 is so awesome and such a gr...\n",
            "27       wild every night my favorite place hands-down ...\n",
            "28       the reason that i'm giving scallywags 3 stars ...\n",
            "29       i don't normally say things are the best but t...\n",
            "                               ...                        \n",
            "49970    it's another pub- very authentic atmosphere- w...\n",
            "49971    why should you go to the caledonian i'll give ...\n",
            "49972    we've eaten at restuarant gary dankos (sf) per...\n",
            "49973    great experience and a surprisingly good value...\n",
            "49974    petite visite pour déjeuner avec la famille mê...\n",
            "49975    ordered takeout: combo fajitas (steak and chic...\n",
            "49976    service: 3/10\\nthe service was extremely slow ...\n",
            "49977    everything about the bar and lounge was 5 star...\n",
            "49978    i live in henderson and absolutely love almost...\n",
            "49979    they serve huge portions here very busy restau...\n",
            "49980    food and atmosphere were great but the tables ...\n",
            "49981    this has not been my favorite restaurant and a...\n",
            "49982    went around 2:00 pm not very busy seated right...\n",
            "49983    damn you yelp for your no half stars~~ i guess...\n",
            "49984    was meeting a friend and he suggested vintners...\n",
            "49985    i've been to cabin club three times now--all f...\n",
            "49986    local go to place good bar food and always fri...\n",
            "49987    moosehead is literally where my ego and my id ...\n",
            "49988    we wanted to bring our family from out of town...\n",
            "49989    tyber creek pub deserves 2 stars only because ...\n",
            "49990    food is pretty good but the breakfast burrito ...\n",
            "49991    heard about this place from a friend so decide...\n",
            "49992    it is extremely rare (i think it may have only...\n",
            "49993    sat at the bar on a busy night and couldn't ha...\n",
            "49994    great bar for before or after dinner although ...\n",
            "49995    i've been going here since i was in elementary...\n",
            "49996    the only reason this place exist is because th...\n",
            "49997    wouldn't be bad if it didn't take so long in t...\n",
            "49998    we recently tried this place while visiting ca...\n",
            "49999    i had very high expectations of cafe monarch a...\n",
            "Name: text, Length: 50000, dtype: object\n",
            "05. 0        went in for a lunch steak sandwich was delicio...\n",
            "1        walked in around 4 on a friday afternoon we sa...\n",
            "2        went here last weekend and was pretty disappoi...\n",
            "3        this place epitomizes the rumored transformati...\n",
            "4        i've never experienced discrimination as i did...\n",
            "5        we had dinner here and the food was excellent ...\n",
            "6        this random hole in the wall is located in the...\n",
            "7        th service here is very hit or miss sometimes ...\n",
            "8        heard about this place and was dying to check ...\n",
            "9        received a  mailer and thought okay let's go w...\n",
            "10       first off food is delicious by far my favorite...\n",
            "11       wonderful experience we sat outside on the pat...\n",
            "12       beer beer and more beer  it's definitely a low...\n",
            "13       love the crust on this pizza the sauce is dece...\n",
            "14       i'm not that familiar with scottsdale so i'm j...\n",
            "15       \"good morning cocktails for you\" \\nwaitwhat oh...\n",
            "16       hands down best bloody mary ever so many thing...\n",
            "17       quiet bar and grill great waitress and the mar...\n",
            "18       cutest little dive bar in the city chill vibe ...\n",
            "19       i've been coming to loco on mill since they op...\n",
            "20       not sure why some posted negative reviews of t...\n",
            "21       after being a huge fan of the mission i decide...\n",
            "22       five stars i highly recommend this place if yo...\n",
            "23       i'm not that pleased with this experience for ...\n",
            "24       i've been here 2x wasn't impressed the first t...\n",
            "25       i normally stop here for breakfast when travel...\n",
            "26       the 5 for 6 'til 7 is so awesome and such a gr...\n",
            "27       wild every night my favorite place hands-down ...\n",
            "28       the reason that i'm giving scallywags 3 stars ...\n",
            "29       i don't normally say things are the best but t...\n",
            "                               ...                        \n",
            "49970    it's another pub- very authentic atmosphere- w...\n",
            "49971    why should you go to the caledonian i'll give ...\n",
            "49972    we've eaten at restuarant gary dankos (sf) per...\n",
            "49973    great experience and a surprisingly good value...\n",
            "49974    petite visite pour déjeuner avec la famille mê...\n",
            "49975    ordered takeout: combo fajitas (steak and chic...\n",
            "49976    service: 3/10\\nthe service was extremely slow ...\n",
            "49977    everything about the bar and lounge was 5 star...\n",
            "49978    i live in henderson and absolutely love almost...\n",
            "49979    they serve huge portions here very busy restau...\n",
            "49980    food and atmosphere were great but the tables ...\n",
            "49981    this has not been my favorite restaurant and a...\n",
            "49982    went around 2:00 pm not very busy seated right...\n",
            "49983    damn you yelp for your no half stars~~ i guess...\n",
            "49984    was meeting a friend and he suggested vintners...\n",
            "49985    i've been to cabin club three times now--all f...\n",
            "49986    local go to place good bar food and always fri...\n",
            "49987    moosehead is literally where my ego and my id ...\n",
            "49988    we wanted to bring our family from out of town...\n",
            "49989    tyber creek pub deserves 2 stars only because ...\n",
            "49990    food is pretty good but the breakfast burrito ...\n",
            "49991    heard about this place from a friend so decide...\n",
            "49992    it is extremely rare (i think it may have only...\n",
            "49993    sat at the bar on a busy night and couldn't ha...\n",
            "49994    great bar for before or after dinner although ...\n",
            "49995    i've been going here since i was in elementary...\n",
            "49996    the only reason this place exist is because th...\n",
            "49997    wouldn't be bad if it didn't take so long in t...\n",
            "49998    we recently tried this place while visiting ca...\n",
            "49999    i had very high expectations of cafe monarch a...\n",
            "Name: text, Length: 50000, dtype: object\n",
            "06. 0        went in for a lunch steak sandwich was delicio...\n",
            "1        walked in around 4 on a friday afternoon we sa...\n",
            "2        went here last weekend and was pretty disappoi...\n",
            "3        this place epitomizes the rumored transformati...\n",
            "4        i've never experienced discrimination as i did...\n",
            "5        we had dinner here and the food was excellent ...\n",
            "6        this random hole in the wall is located in the...\n",
            "7        th service here is very hit or miss sometimes ...\n",
            "8        heard about this place and was dying to check ...\n",
            "9        received a  mailer and thought okay let's go w...\n",
            "10       first off food is delicious by far my favorite...\n",
            "11       wonderful experience we sat outside on the pat...\n",
            "12       beer beer and more beer  it's definitely a low...\n",
            "13       love the crust on this pizza the sauce is dece...\n",
            "14       i'm not that familiar with scottsdale so i'm j...\n",
            "15       \"good morning cocktails for you\" \\nwaitwhat oh...\n",
            "16       hands down best bloody mary ever so many thing...\n",
            "17       quiet bar and grill great waitress and the mar...\n",
            "18       cutest little dive bar in the city chill vibe ...\n",
            "19       i've been coming to loco on mill since they op...\n",
            "20       not sure why some posted negative reviews of t...\n",
            "21       after being a huge fan of the mission i decide...\n",
            "22       five stars i highly recommend this place if yo...\n",
            "23       i'm not that pleased with this experience for ...\n",
            "24       i've been here 2x wasn't impressed the first t...\n",
            "25       i normally stop here for breakfast when travel...\n",
            "26       the 5 for 6 'til 7 is so awesome and such a gr...\n",
            "27       wild every night my favorite place hands-down ...\n",
            "28       the reason that i'm giving scallywags 3 stars ...\n",
            "29       i don't normally say things are the best but t...\n",
            "                               ...                        \n",
            "49970    it's another pub- very authentic atmosphere- w...\n",
            "49971    why should you go to the caledonian i'll give ...\n",
            "49972    we've eaten at restuarant gary dankos (sf) per...\n",
            "49973    great experience and a surprisingly good value...\n",
            "49974    petite visite pour déjeuner avec la famille mê...\n",
            "49975    ordered takeout: combo fajitas (steak and chic...\n",
            "49976    service: 3/10\\nthe service was extremely slow ...\n",
            "49977    everything about the bar and lounge was 5 star...\n",
            "49978    i live in henderson and absolutely love almost...\n",
            "49979    they serve huge portions here very busy restau...\n",
            "49980    food and atmosphere were great but the tables ...\n",
            "49981    this has not been my favorite restaurant and a...\n",
            "49982    went around 2:00 pm not very busy seated right...\n",
            "49983    damn you yelp for your no half stars~~ i guess...\n",
            "49984    was meeting a friend and he suggested vintners...\n",
            "49985    i've been to cabin club three times now--all f...\n",
            "49986    local go to place good bar food and always fri...\n",
            "49987    moosehead is literally where my ego and my id ...\n",
            "49988    we wanted to bring our family from out of town...\n",
            "49989    tyber creek pub deserves 2 stars only because ...\n",
            "49990    food is pretty good but the breakfast burrito ...\n",
            "49991    heard about this place from a friend so decide...\n",
            "49992    it is extremely rare (i think it may have only...\n",
            "49993    sat at the bar on a busy night and couldn't ha...\n",
            "49994    great bar for before or after dinner although ...\n",
            "49995    i've been going here since i was in elementary...\n",
            "49996    the only reason this place exist is because th...\n",
            "49997    wouldn't be bad if it didn't take so long in t...\n",
            "49998    we recently tried this place while visiting ca...\n",
            "49999    i had very high expectations of cafe monarch a...\n",
            "Name: text, Length: 50000, dtype: object\n",
            "07. 0        went in for a lunch steak sandwich was delicio...\n",
            "1        walked in around 4 on a friday afternoon we sa...\n",
            "2        went here last weekend and was pretty disappoi...\n",
            "3        this place epitomizes the rumored transformati...\n",
            "4        i've never experienced discrimination as i did...\n",
            "5        we had dinner here and the food was excellent ...\n",
            "6        this random hole in the wall is located in the...\n",
            "7        th service here is very hit or miss sometimes ...\n",
            "8        heard about this place and was dying to check ...\n",
            "9        received a  mailer and thought okay let's go w...\n",
            "10       first off food is delicious by far my favorite...\n",
            "11       wonderful experience we sat outside on the pat...\n",
            "12       beer beer and more beer  it's definitely a low...\n",
            "13       love the crust on this pizza the sauce is dece...\n",
            "14       i'm not that familiar with scottsdale so i'm j...\n",
            "15       \"good morning cocktails for you\" \\nwaitwhat oh...\n",
            "16       hands down best bloody mary ever so many thing...\n",
            "17       quiet bar and grill great waitress and the mar...\n",
            "18       cutest little dive bar in the city chill vibe ...\n",
            "19       i've been coming to loco on mill since they op...\n",
            "20       not sure why some posted negative reviews of t...\n",
            "21       after being a huge fan of the mission i decide...\n",
            "22       five stars i highly recommend this place if yo...\n",
            "23       i'm not that pleased with this experience for ...\n",
            "24       i've been here 2x wasn't impressed the first t...\n",
            "25       i normally stop here for breakfast when travel...\n",
            "26       the 5 for 6 'til 7 is so awesome and such a gr...\n",
            "27       wild every night my favorite place hands-down ...\n",
            "28       the reason that i'm giving scallywags 3 stars ...\n",
            "29       i don't normally say things are the best but t...\n",
            "                               ...                        \n",
            "49970    it's another pub- very authentic atmosphere- w...\n",
            "49971    why should you go to the caledonian i'll give ...\n",
            "49972    we've eaten at restuarant gary dankos (sf) per...\n",
            "49973    great experience and a surprisingly good value...\n",
            "49974    petite visite pour déjeuner avec la famille mê...\n",
            "49975    ordered takeout: combo fajitas (steak and chic...\n",
            "49976    service: 3/10\\nthe service was extremely slow ...\n",
            "49977    everything about the bar and lounge was 5 star...\n",
            "49978    i live in henderson and absolutely love almost...\n",
            "49979    they serve huge portions here very busy restau...\n",
            "49980    food and atmosphere were great but the tables ...\n",
            "49981    this has not been my favorite restaurant and a...\n",
            "49982    went around 2:00 pm not very busy seated right...\n",
            "49983    damn you yelp for your no half stars~~ i guess...\n",
            "49984    was meeting a friend and he suggested vintners...\n",
            "49985    i've been to cabin club three times now--all f...\n",
            "49986    local go to place good bar food and always fri...\n",
            "49987    moosehead is literally where my ego and my id ...\n",
            "49988    we wanted to bring our family from out of town...\n",
            "49989    tyber creek pub deserves 2 stars only because ...\n",
            "49990    food is pretty good but the breakfast burrito ...\n",
            "49991    heard about this place from a friend so decide...\n",
            "49992    it is extremely rare (i think it may have only...\n",
            "49993    sat at the bar on a busy night and couldn't ha...\n",
            "49994    great bar for before or after dinner although ...\n",
            "49995    i've been going here since i was in elementary...\n",
            "49996    the only reason this place exist is because th...\n",
            "49997    wouldn't be bad if it didn't take so long in t...\n",
            "49998    we recently tried this place while visiting ca...\n",
            "49999    i had very high expectations of cafe monarch a...\n",
            "Name: text, Length: 50000, dtype: object\n",
            "08. 0        went in for a lunch steak sandwich was delicio...\n",
            "1        walked in around 4 on a friday afternoon we sa...\n",
            "2        went here last weekend and was pretty disappoi...\n",
            "3        this place epitomizes the rumored transformati...\n",
            "4        i've never experienced discrimination as i did...\n",
            "5        we had dinner here and the food was excellent ...\n",
            "6        this random hole in the wall is located in the...\n",
            "7        th service here is very hit or miss sometimes ...\n",
            "8        heard about this place and was dying to check ...\n",
            "9        received a  mailer and thought okay let's go w...\n",
            "10       first off food is delicious by far my favorite...\n",
            "11       wonderful experience we sat outside on the pat...\n",
            "12       beer beer and more beer  it's definitely a low...\n",
            "13       love the crust on this pizza the sauce is dece...\n",
            "14       i'm not that familiar with scottsdale so i'm j...\n",
            "15       \"good morning cocktails for you\" \\nwaitwhat oh...\n",
            "16       hands down best bloody mary ever so many thing...\n",
            "17       quiet bar and grill great waitress and the mar...\n",
            "18       cutest little dive bar in the city chill vibe ...\n",
            "19       i've been coming to loco on mill since they op...\n",
            "20       not sure why some posted negative reviews of t...\n",
            "21       after being a huge fan of the mission i decide...\n",
            "22       five stars i highly recommend this place if yo...\n",
            "23       i'm not that pleased with this experience for ...\n",
            "24       i've been here 2x wasn't impressed the first t...\n",
            "25       i normally stop here for breakfast when travel...\n",
            "26       the 5 for 6 'til 7 is so awesome and such a gr...\n",
            "27       wild every night my favorite place hands-down ...\n",
            "28       the reason that i'm giving scallywags 3 stars ...\n",
            "29       i don't normally say things are the best but t...\n",
            "                               ...                        \n",
            "49970    it's another pub- very authentic atmosphere- w...\n",
            "49971    why should you go to the caledonian i'll give ...\n",
            "49972    we've eaten at restuarant gary dankos (sf) per...\n",
            "49973    great experience and a surprisingly good value...\n",
            "49974    petite visite pour déjeuner avec la famille mê...\n",
            "49975    ordered takeout: combo fajitas (steak and chic...\n",
            "49976    service: 3/10\\nthe service was extremely slow ...\n",
            "49977    everything about the bar and lounge was 5 star...\n",
            "49978    i live in henderson and absolutely love almost...\n",
            "49979    they serve huge portions here very busy restau...\n",
            "49980    food and atmosphere were great but the tables ...\n",
            "49981    this has not been my favorite restaurant and a...\n",
            "49982    went around 2:00 pm not very busy seated right...\n",
            "49983    damn you yelp for your no half stars~~ i guess...\n",
            "49984    was meeting a friend and he suggested vintners...\n",
            "49985    i've been to cabin club three times now--all f...\n",
            "49986    local go to place good bar food and always fri...\n",
            "49987    moosehead is literally where my ego and my id ...\n",
            "49988    we wanted to bring our family from out of town...\n",
            "49989    tyber creek pub deserves 2 stars only because ...\n",
            "49990    food is pretty good but the breakfast burrito ...\n",
            "49991    heard about this place from a friend so decide...\n",
            "49992    it is extremely rare (i think it may have only...\n",
            "49993    sat at the bar on a busy night and couldn't ha...\n",
            "49994    great bar for before or after dinner although ...\n",
            "49995    i've been going here since i was in elementary...\n",
            "49996    the only reason this place exist is because th...\n",
            "49997    wouldn't be bad if it didn't take so long in t...\n",
            "49998    we recently tried this place while visiting ca...\n",
            "49999    i had very high expectations of cafe monarch a...\n",
            "Name: text, Length: 50000, dtype: object\n",
            "09. 0        went in for a lunch steak sandwich was delicio...\n",
            "1        walked in around 4 on a friday afternoon we sa...\n",
            "2        went here last weekend and was pretty disappoi...\n",
            "3        this place epitomizes the rumored transformati...\n",
            "4        i've never experienced discrimination as i did...\n",
            "5        we had dinner here and the food was excellent ...\n",
            "6        this random hole in the wall is located in the...\n",
            "7        th service here is very hit or miss sometimes ...\n",
            "8        heard about this place and was dying to check ...\n",
            "9        received a  mailer and thought okay let's go w...\n",
            "10       first off food is delicious by far my favorite...\n",
            "11       wonderful experience we sat outside on the pat...\n",
            "12       beer beer and more beer  it's definitely a low...\n",
            "13       love the crust on this pizza the sauce is dece...\n",
            "14       i'm not that familiar with scottsdale so i'm j...\n",
            "15       \"good morning cocktails for you\" \\nwaitwhat oh...\n",
            "16       hands down best bloody mary ever so many thing...\n",
            "17       quiet bar and grill great waitress and the mar...\n",
            "18       cutest little dive bar in the city chill vibe ...\n",
            "19       i've been coming to loco on mill since they op...\n",
            "20       not sure why some posted negative reviews of t...\n",
            "21       after being a huge fan of the mission i decide...\n",
            "22       five stars i highly recommend this place if yo...\n",
            "23       i'm not that pleased with this experience for ...\n",
            "24       i've been here 2x wasn't impressed the first t...\n",
            "25       i normally stop here for breakfast when travel...\n",
            "26       the 5 for 6 'til 7 is so awesome and such a gr...\n",
            "27       wild every night my favorite place hands-down ...\n",
            "28       the reason that i'm giving scallywags 3 stars ...\n",
            "29       i don't normally say things are the best but t...\n",
            "                               ...                        \n",
            "49970    it's another pub- very authentic atmosphere- w...\n",
            "49971    why should you go to the caledonian i'll give ...\n",
            "49972    we've eaten at restuarant gary dankos (sf) per...\n",
            "49973    great experience and a surprisingly good value...\n",
            "49974    petite visite pour déjeuner avec la famille mê...\n",
            "49975    ordered takeout: combo fajitas (steak and chic...\n",
            "49976    service: 3/10\\nthe service was extremely slow ...\n",
            "49977    everything about the bar and lounge was 5 star...\n",
            "49978    i live in henderson and absolutely love almost...\n",
            "49979    they serve huge portions here very busy restau...\n",
            "49980    food and atmosphere were great but the tables ...\n",
            "49981    this has not been my favorite restaurant and a...\n",
            "49982    went around 2:00 pm not very busy seated right...\n",
            "49983    damn you yelp for your no half stars~~ i guess...\n",
            "49984    was meeting a friend and he suggested vintners...\n",
            "49985    i've been to cabin club three times now--all f...\n",
            "49986    local go to place good bar food and always fri...\n",
            "49987    moosehead is literally where my ego and my id ...\n",
            "49988    we wanted to bring our family from out of town...\n",
            "49989    tyber creek pub deserves 2 stars only because ...\n",
            "49990    food is pretty good but the breakfast burrito ...\n",
            "49991    heard about this place from a friend so decide...\n",
            "49992    it is extremely rare (i think it may have only...\n",
            "49993    sat at the bar on a busy night and couldn't ha...\n",
            "49994    great bar for before or after dinner although ...\n",
            "49995    i've been going here since i was in elementary...\n",
            "49996    the only reason this place exist is because th...\n",
            "49997    wouldn't be bad if it didn't take so long in t...\n",
            "49998    we recently tried this place while visiting ca...\n",
            "49999    i had very high expectations of cafe monarch a...\n",
            "Name: text, Length: 50000, dtype: object\n",
            "10. 0        went in for a lunch steak sandwich was delicio...\n",
            "1        walked in around 4 on a friday afternoon we sa...\n",
            "2        went here last weekend and was pretty disappoi...\n",
            "3        this place epitomizes the rumored transformati...\n",
            "4        i've never experienced discrimination as i did...\n",
            "5        we had dinner here and the food was excellent ...\n",
            "6        this random hole in the wall is located in the...\n",
            "7        th service here is very hit or miss sometimes ...\n",
            "8        heard about this place and was dying to check ...\n",
            "9        received a  mailer and thought okay let's go w...\n",
            "10       first off food is delicious by far my favorite...\n",
            "11       wonderful experience we sat outside on the pat...\n",
            "12       beer beer and more beer  it's definitely a low...\n",
            "13       love the crust on this pizza the sauce is dece...\n",
            "14       i'm not that familiar with scottsdale so i'm j...\n",
            "15       \"good morning cocktails for you\" \\nwaitwhat oh...\n",
            "16       hands down best bloody mary ever so many thing...\n",
            "17       quiet bar and grill great waitress and the mar...\n",
            "18       cutest little dive bar in the city chill vibe ...\n",
            "19       i've been coming to loco on mill since they op...\n",
            "20       not sure why some posted negative reviews of t...\n",
            "21       after being a huge fan of the mission i decide...\n",
            "22       five stars i highly recommend this place if yo...\n",
            "23       i'm not that pleased with this experience for ...\n",
            "24       i've been here 2x wasn't impressed the first t...\n",
            "25       i normally stop here for breakfast when travel...\n",
            "26       the 5 for 6 'til 7 is so awesome and such a gr...\n",
            "27       wild every night my favorite place hands-down ...\n",
            "28       the reason that i'm giving scallywags 3 stars ...\n",
            "29       i don't normally say things are the best but t...\n",
            "                               ...                        \n",
            "49970    it's another pub- very authentic atmosphere- w...\n",
            "49971    why should you go to the caledonian i'll give ...\n",
            "49972    we've eaten at restuarant gary dankos (sf) per...\n",
            "49973    great experience and a surprisingly good value...\n",
            "49974    petite visite pour déjeuner avec la famille mê...\n",
            "49975    ordered takeout: combo fajitas (steak and chic...\n",
            "49976    service: 3/10\\nthe service was extremely slow ...\n",
            "49977    everything about the bar and lounge was 5 star...\n",
            "49978    i live in henderson and absolutely love almost...\n",
            "49979    they serve huge portions here very busy restau...\n",
            "49980    food and atmosphere were great but the tables ...\n",
            "49981    this has not been my favorite restaurant and a...\n",
            "49982    went around 2:00 pm not very busy seated right...\n",
            "49983    damn you yelp for your no half stars~~ i guess...\n",
            "49984    was meeting a friend and he suggested vintners...\n",
            "49985    i've been to cabin club three times now--all f...\n",
            "49986    local go to place good bar food and always fri...\n",
            "49987    moosehead is literally where my ego and my id ...\n",
            "49988    we wanted to bring our family from out of town...\n",
            "49989    tyber creek pub deserves 2 stars only because ...\n",
            "49990    food is pretty good but the breakfast burrito ...\n",
            "49991    heard about this place from a friend so decide...\n",
            "49992    it is extremely rare (i think it may have only...\n",
            "49993    sat at the bar on a busy night and couldn't ha...\n",
            "49994    great bar for before or after dinner although ...\n",
            "49995    i've been going here since i was in elementary...\n",
            "49996    the only reason this place exist is because th...\n",
            "49997    wouldn't be bad if it didn't take so long in t...\n",
            "49998    we recently tried this place while visiting ca...\n",
            "49999    i had very high expectations of cafe monarch a...\n",
            "Name: text, Length: 50000, dtype: object\n"
          ],
          "name": "stdout"
        }
      ]
    },
    {
      "cell_type": "code",
      "metadata": {
        "id": "5byPmSuFLDhD",
        "colab_type": "code",
        "outputId": "a9ca769d-aa0e-458d-f651-c2966e0e85e8",
        "colab": {
          "base_uri": "https://localhost:8080/",
          "height": 34
        }
      },
      "source": [
        "joblib.dump((W,H,terms,snippets), \"articles-model-nmf-k%02d.pkl\" % k)"
      ],
      "execution_count": 0,
      "outputs": [
        {
          "output_type": "execute_result",
          "data": {
            "text/plain": [
              "['articles-model-nmf-k10.pkl']"
            ]
          },
          "metadata": {
            "tags": []
          },
          "execution_count": 106
        }
      ]
    },
    {
      "cell_type": "code",
      "metadata": {
        "id": "FMPgDP0HLbG8",
        "colab_type": "code",
        "outputId": "7013c17b-2e7b-42c0-92fd-90a674841487",
        "colab": {
          "base_uri": "https://localhost:8080/",
          "height": 34
        }
      },
      "source": [
        "from sklearn.externals import joblib\n",
        "(A,terms,snippets) = joblib.load( \"articles-tfidf.pkl\" )\n",
        "print( \"Loaded %d X %d document-term matrix\" % (A.shape[0], A.shape[1]) )"
      ],
      "execution_count": 0,
      "outputs": [
        {
          "output_type": "stream",
          "text": [
            "Loaded 50000 X 6948 document-term matrix\n"
          ],
          "name": "stdout"
        }
      ]
    },
    {
      "cell_type": "code",
      "metadata": {
        "id": "naEQg_KgLf33",
        "colab_type": "code",
        "colab": {}
      },
      "source": [
        "kmin, kmax = 4, 15"
      ],
      "execution_count": 0,
      "outputs": []
    },
    {
      "cell_type": "code",
      "metadata": {
        "id": "QfMaPhPtLiJV",
        "colab_type": "code",
        "outputId": "0245588b-8c21-40cf-8c3c-2104d0f02789",
        "colab": {
          "base_uri": "https://localhost:8080/",
          "height": 221
        }
      },
      "source": [
        "from sklearn import decomposition\n",
        "topic_models = []\n",
        "# try each value of k\n",
        "for k in range(kmin,kmax+1):\n",
        "    print(\"Applying NMF for k=%d ...\" % k )\n",
        "    # run NMF\n",
        "    model = decomposition.NMF( init=\"nndsvd\", n_components=k ) \n",
        "    W = model.fit_transform( A )\n",
        "    H = model.components_    \n",
        "    # store for later\n",
        "    topic_models.append( (k,W,H) )"
      ],
      "execution_count": 0,
      "outputs": [
        {
          "output_type": "stream",
          "text": [
            "Applying NMF for k=4 ...\n",
            "Applying NMF for k=5 ...\n",
            "Applying NMF for k=6 ...\n",
            "Applying NMF for k=7 ...\n",
            "Applying NMF for k=8 ...\n",
            "Applying NMF for k=9 ...\n",
            "Applying NMF for k=10 ...\n",
            "Applying NMF for k=11 ...\n",
            "Applying NMF for k=12 ...\n",
            "Applying NMF for k=13 ...\n",
            "Applying NMF for k=14 ...\n",
            "Applying NMF for k=15 ...\n"
          ],
          "name": "stdout"
        }
      ]
    },
    {
      "cell_type": "code",
      "metadata": {
        "id": "S3GZRZrrLkz0",
        "colab_type": "code",
        "colab": {}
      },
      "source": [
        "import re\n",
        "class TokenGenerator:\n",
        "    def __init__( self, documents, stopwords ):\n",
        "        self.documents = documents\n",
        "        self.stopwords = stopwords\n",
        "        self.tokenizer = re.compile( r\"(?u)\\b\\w\\w+\\b\" )\n",
        "\n",
        "    def __iter__( self ):\n",
        "        print(\"Building Word2Vec model ...\")\n",
        "        for doc in self.documents:\n",
        "            tokens = []\n",
        "            for tok in self.tokenizer.findall( doc ):\n",
        "                if tok in self.stopwords:\n",
        "                    tokens.append( \"<stopword>\" )\n",
        "                elif len(tok) >= 2:\n",
        "                    tokens.append( tok )\n",
        "            yield tokens"
      ],
      "execution_count": 0,
      "outputs": []
    },
    {
      "cell_type": "code",
      "metadata": {
        "id": "eaZ3o1YHMMXG",
        "colab_type": "code",
        "outputId": "4329dd32-8dac-4451-f58f-8704a0069ba0",
        "colab": {
          "base_uri": "https://localhost:8080/",
          "height": 119
        }
      },
      "source": [
        "import gensim\n",
        "docgen = TokenGenerator( raw_documents, 'english')\n",
        "# the model has 500 dimensions, the minimum document-term frequency is 20\n",
        "w2v_model = gensim.models.Word2Vec(docgen, size=500, min_count=20, sg=1)"
      ],
      "execution_count": 0,
      "outputs": [
        {
          "output_type": "stream",
          "text": [
            "Building Word2Vec model ...\n",
            "Building Word2Vec model ...\n",
            "Building Word2Vec model ...\n",
            "Building Word2Vec model ...\n",
            "Building Word2Vec model ...\n",
            "Building Word2Vec model ...\n"
          ],
          "name": "stdout"
        }
      ]
    },
    {
      "cell_type": "code",
      "metadata": {
        "id": "Z5nS9xwmMRV2",
        "colab_type": "code",
        "outputId": "821232aa-47a3-49fd-e666-1fbe1eded0f4",
        "colab": {
          "base_uri": "https://localhost:8080/",
          "height": 34
        }
      },
      "source": [
        "print( \"Model has %d terms\" % len(w2v_model.wv.vocab) )"
      ],
      "execution_count": 0,
      "outputs": [
        {
          "output_type": "stream",
          "text": [
            "Model has 7513 terms\n"
          ],
          "name": "stdout"
        }
      ]
    },
    {
      "cell_type": "code",
      "metadata": {
        "id": "NGFXSJcKMjaR",
        "colab_type": "code",
        "outputId": "9acd7ea1-7165-479f-8574-a786d5c9f214",
        "colab": {
          "base_uri": "https://localhost:8080/",
          "height": 71
        }
      },
      "source": [
        "w2v_model.save(\"w2v-model.bin\")"
      ],
      "execution_count": 0,
      "outputs": [
        {
          "output_type": "stream",
          "text": [
            "/usr/local/lib/python3.6/dist-packages/smart_open/smart_open_lib.py:398: UserWarning: This function is deprecated, use smart_open.open instead. See the migration notes for details: https://github.com/RaRe-Technologies/smart_open/blob/master/README.rst#migrating-to-the-new-open-function\n",
            "  'See the migration notes for details: %s' % _MIGRATION_NOTES_URL\n"
          ],
          "name": "stderr"
        }
      ]
    },
    {
      "cell_type": "code",
      "metadata": {
        "id": "QLSUVA4QMlK1",
        "colab_type": "code",
        "colab": {}
      },
      "source": [
        "def calculate_coherence( w2v_model, term_rankings ):\n",
        "    overall_coherence = 0.0\n",
        "    for topic_index in range(len(term_rankings)):\n",
        "        # check each pair of terms\n",
        "        pair_scores = []\n",
        "        for pair in combinations( term_rankings[topic_index], 2 ):\n",
        "            pair_scores.append( w2v_model.similarity(pair[0], pair[1]) )\n",
        "        # get the mean for all pairs in this topic\n",
        "        topic_score = sum(pair_scores) / len(pair_scores)\n",
        "        overall_coherence += topic_score\n",
        "    # get the mean score across all topics\n",
        "    return overall_coherence / len(term_rankings)"
      ],
      "execution_count": 0,
      "outputs": []
    },
    {
      "cell_type": "code",
      "metadata": {
        "id": "BJhyFGTYMnEp",
        "colab_type": "code",
        "colab": {}
      },
      "source": [
        "import numpy as np\n",
        "def get_descriptor( all_terms, H, topic_index, top ):\n",
        "    # reverse sort the values to sort the indices\n",
        "    top_indices = np.argsort( H[topic_index,:] )[::-1]\n",
        "    # now get the terms corresponding to the top-ranked indices\n",
        "    top_terms = []\n",
        "    for term_index in top_indices[0:top]:\n",
        "        top_terms.append( all_terms[term_index] )\n",
        "    return top_terms"
      ],
      "execution_count": 0,
      "outputs": []
    },
    {
      "cell_type": "code",
      "metadata": {
        "id": "_2rdWWeDMo3J",
        "colab_type": "code",
        "outputId": "1f48497f-7e7b-44da-951f-dbe942b086f1",
        "colab": {
          "base_uri": "https://localhost:8080/",
          "height": 309
        }
      },
      "source": [
        "from itertools import combinations\n",
        "k_values = []\n",
        "coherences = []\n",
        "for (k,W,H) in topic_models:\n",
        "    # Get all of the topic descriptors - the term_rankings, based on top 10 terms\n",
        "    term_rankings = []\n",
        "    for topic_index in range(k):\n",
        "        term_rankings.append( get_descriptor( terms, H, topic_index, 10 ) )\n",
        "    # Now calculate the coherence based on our Word2vec model\n",
        "    k_values.append( k )\n",
        "    coherences.append( calculate_coherence( w2v_model, term_rankings ) )\n",
        "    print(\"K=%02d: Coherence=%.4f\" % ( k, coherences[-1] ) )"
      ],
      "execution_count": 0,
      "outputs": [
        {
          "output_type": "stream",
          "text": [
            "/usr/local/lib/python3.6/dist-packages/ipykernel_launcher.py:7: DeprecationWarning: Call to deprecated `similarity` (Method will be removed in 4.0.0, use self.wv.similarity() instead).\n",
            "  import sys\n",
            "/usr/local/lib/python3.6/dist-packages/gensim/matutils.py:737: FutureWarning: Conversion of the second argument of issubdtype from `int` to `np.signedinteger` is deprecated. In future, it will be treated as `np.int64 == np.dtype(int).type`.\n",
            "  if np.issubdtype(vec.dtype, np.int):\n"
          ],
          "name": "stderr"
        },
        {
          "output_type": "stream",
          "text": [
            "K=04: Coherence=0.2739\n",
            "K=05: Coherence=0.2766\n",
            "K=06: Coherence=0.2760\n",
            "K=07: Coherence=0.2627\n",
            "K=08: Coherence=0.2606\n",
            "K=09: Coherence=0.2721\n",
            "K=10: Coherence=0.2670\n",
            "K=11: Coherence=0.2604\n",
            "K=12: Coherence=0.2635\n",
            "K=13: Coherence=0.2620\n",
            "K=14: Coherence=0.2612\n",
            "K=15: Coherence=0.2641\n"
          ],
          "name": "stdout"
        }
      ]
    },
    {
      "cell_type": "code",
      "metadata": {
        "id": "OYA1mp1JMqs9",
        "colab_type": "code",
        "colab": {}
      },
      "source": [
        "%matplotlib inline\n",
        "import matplotlib\n",
        "import matplotlib.pyplot as plt\n",
        "plt.style.use(\"ggplot\")\n",
        "matplotlib.rcParams.update({\"font.size\": 14})"
      ],
      "execution_count": 0,
      "outputs": []
    },
    {
      "cell_type": "code",
      "metadata": {
        "id": "FUvNvnZwMu9u",
        "colab_type": "code",
        "outputId": "4e04b582-008c-4762-82a3-6eb2c8c96692",
        "colab": {
          "base_uri": "https://localhost:8080/",
          "height": 478
        }
      },
      "source": [
        "fig = plt.figure(figsize=(13,7))\n",
        "# create the line plot\n",
        "ax = plt.plot( k_values, coherences )\n",
        "plt.xticks(k_values)\n",
        "plt.xlabel(\"Number of Topics\")\n",
        "plt.ylabel(\"Mean Coherence\")\n",
        "# add the points\n",
        "plt.scatter( k_values, coherences, s=120)\n",
        "# find and annotate the maximum point on the plot\n",
        "ymax = max(coherences)\n",
        "xpos = coherences.index(ymax)\n",
        "best_k = k_values[xpos]\n",
        "plt.annotate( \"k=%d\" % best_k, xy=(best_k, ymax), xytext=(best_k, ymax), textcoords=\"offset points\", fontsize=16)\n",
        "# show the plot\n",
        "plt.show()"
      ],
      "execution_count": 0,
      "outputs": [
        {
          "output_type": "display_data",
          "data": {
            "image/png": "[encoded data removed]",
            "text/plain": [
              "<Figure size 936x504 with 1 Axes>"
            ]
          },
          "metadata": {
            "tags": []
          }
        }
      ]
    },
    {
      "cell_type": "code",
      "metadata": {
        "id": "glsrYyJDMxqL",
        "colab_type": "code",
        "colab": {}
      },
      "source": [
        "k = best_k\n",
        "# get the model that we generated earlier.\n",
        "W = topic_models[k-kmin][1]\n",
        "H = topic_models[k-kmin][2]"
      ],
      "execution_count": 0,
      "outputs": []
    },
    {
      "cell_type": "code",
      "metadata": {
        "id": "2zzGMNbjM0NJ",
        "colab_type": "code",
        "outputId": "8472e310-f818-4d2e-ad73-24a0cbb3779b",
        "colab": {
          "base_uri": "https://localhost:8080/",
          "height": 122
        }
      },
      "source": [
        "for topic_index in range(k):\n",
        "    descriptor = get_descriptor( terms, H, topic_index, 10 )\n",
        "    str_descriptor = \", \".join( descriptor )\n",
        "    print(\"Topic %02d: %s\" % ( topic_index+1, str_descriptor ) )"
      ],
      "execution_count": 0,
      "outputs": [
        {
          "output_type": "stream",
          "text": [
            "Topic 01: minutes, time, table, food, came, order, server, service, took, asked\n",
            "Topic 02: great, food, service, amazing, atmosphere, awesome, staff, friendly, place, best\n",
            "Topic 03: place, bar, beer, love, like, fun, drinks, night, nice, music\n",
            "Topic 04: chicken, burger, cheese, ordered, fries, salad, delicious, sauce, menu, steak\n",
            "Topic 05: good, food, really, service, pretty, nice, prices, price, atmosphere, decent\n"
          ],
          "name": "stdout"
        }
      ]
    }
  ]
}