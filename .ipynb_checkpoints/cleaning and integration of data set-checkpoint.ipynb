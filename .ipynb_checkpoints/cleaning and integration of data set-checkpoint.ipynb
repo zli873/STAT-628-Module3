{
 "cells": [
  {
   "cell_type": "code",
   "execution_count": 1,
   "metadata": {},
   "outputs": [],
   "source": [
    "import json\n",
    "import pandas as pd\n",
    "import numpy as np"
   ]
  },
  {
   "cell_type": "code",
   "execution_count": 2,
   "metadata": {},
   "outputs": [],
   "source": [
    "def json_get_length(path):\n",
    "    with open(path, encoding=\"utf-8\") as f:\n",
    "        lines = f.readlines()\n",
    "        return len(lines)"
   ]
  },
  {
   "cell_type": "code",
   "execution_count": 3,
   "metadata": {},
   "outputs": [],
   "source": [
    "def json_to_df(path, l):\n",
    "    with open(path, encoding=\"utf-8\") as f:\n",
    "        dic = {}\n",
    "        for i in range(l):\n",
    "            line = f.readline()\n",
    "            dic_new = dict(json.loads(line))\n",
    "            if i == 0:\n",
    "                dic = dic_new\n",
    "                for key in dic:\n",
    "                    dic[key] = [dic[key]]\n",
    "            else:\n",
    "                for key in dic:\n",
    "                    dic[key].append(dic_new[key])\n",
    "        f.close()\n",
    "        dic = pd.DataFrame(dic)\n",
    "        return dic"
   ]
  },
  {
   "cell_type": "code",
   "execution_count": null,
   "metadata": {},
   "outputs": [],
   "source": [
    "#read review file\n",
    "l_review=json_get_length('review.json')\n",
    "review = json_to_df('review.json',l_review)"
   ]
  },
  {
   "cell_type": "code",
   "execution_count": null,
   "metadata": {},
   "outputs": [],
   "source": [
    "#find no_duplicate id\n",
    "def clean_duplicate(list):\n",
    "    no_duplicate_list=[]\n",
    "    for ele in list:\n",
    "        if ele not in no_duplicate_list:\n",
    "            no_duplicate_list.append(ele)\n",
    "    return no_duplicate_list"
   ]
  },
  {
   "cell_type": "code",
   "execution_count": null,
   "metadata": {},
   "outputs": [],
   "source": [
    "#find no_duplicate business id\n",
    "unique_business_id=clean_duplicate(list(review['business_id']))"
   ]
  },
  {
   "cell_type": "code",
   "execution_count": null,
   "metadata": {},
   "outputs": [],
   "source": [
    "#find no_duplicate user id\n",
    "unique_user_id=clean_duplicate(list(review['user_id']))"
   ]
  },
  {
   "cell_type": "code",
   "execution_count": null,
   "metadata": {},
   "outputs": [],
   "source": [
    "#read tip file\n",
    "l_tip=json_get_length('tip.json')\n",
    "tip = json_to_df('tip.json',l_tip)"
   ]
  },
  {
   "cell_type": "code",
   "execution_count": null,
   "metadata": {},
   "outputs": [],
   "source": [
    "#find tips only for these business\n",
    "for i in range(len(tip['business_id'])):\n",
    "    if tip['business_id'][i] not in unique_business_id:\n",
    "        tip=tip.drop([i],axis=0)\n",
    "#reset the index\n",
    "tip['index']=range(len(tip))\n",
    "tip.set_index(\"index\")"
   ]
  },
  {
   "cell_type": "code",
   "execution_count": null,
   "metadata": {},
   "outputs": [],
   "source": [
    "#read business file\n",
    "l_business=json_get_length('business.json')\n",
    "business = json_to_df('business.json',l_business)"
   ]
  },
  {
   "cell_type": "code",
   "execution_count": null,
   "metadata": {},
   "outputs": [],
   "source": [
    "#find information only for these business\n",
    "for i in range(len(business['business_id'])):\n",
    "    if business['business_id'][i] not in unique_business_id:\n",
    "        business=business.drop([i],axis=0)\n",
    "#reset the index\n",
    "business['index']=range(len(business))\n",
    "business.set_index(\"index\")"
   ]
  },
  {
   "cell_type": "code",
   "execution_count": null,
   "metadata": {},
   "outputs": [],
   "source": [
    "#read user file\n",
    "l_user=json_get_length('user.json')\n",
    "user = json_to_df('user.json',l_user)"
   ]
  },
  {
   "cell_type": "code",
   "execution_count": null,
   "metadata": {},
   "outputs": [],
   "source": [
    "#find users only those who write reviews in review files\n",
    "for i in range(len(user['user_id'])):\n",
    "    if user['user_id'][i] not in unique_user_id:\n",
    "        user=user.drop([i],axis=0)\n",
    "#reset the index\n",
    "user['index']=range(len(user))\n",
    "user.set_index(\"index\")"
   ]
  }
 ],
 "metadata": {
  "kernelspec": {
   "display_name": "Python 3",
   "language": "python",
   "name": "python3"
  },
  "language_info": {
   "codemirror_mode": {
    "name": "ipython",
    "version": 3
   },
   "file_extension": ".py",
   "mimetype": "text/x-python",
   "name": "python",
   "nbconvert_exporter": "python",
   "pygments_lexer": "ipython3",
   "version": "3.7.4"
  }
 },
 "nbformat": 4,
 "nbformat_minor": 2
}
